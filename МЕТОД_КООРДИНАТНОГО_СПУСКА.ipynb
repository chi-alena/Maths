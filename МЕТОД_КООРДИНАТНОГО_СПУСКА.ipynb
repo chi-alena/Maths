{
  "cells": [
    {
      "cell_type": "code",
      "execution_count": null,
      "metadata": {
        "id": "gBo3xGty0P0O"
      },
      "outputs": [],
      "source": [
        "# Imports\n",
        "import pandas as pd\n",
        "import numpy as np\n",
        "import matplotlib.pyplot as plt\n"
      ]
    },
    {
      "cell_type": "markdown",
      "metadata": {
        "id": "SMNFu0BH0ild"
      },
      "source": [
        "# **Стохастический градиентный и координатный спуски**"
      ]
    },
    {
      "cell_type": "markdown",
      "metadata": {
        "id": "J1EQil2H0oBG"
      },
      "source": [
        "Для каждого задания указано количество баллов (если они оцениваются отдельно) + 1 балл за аккуратное и полное выполнение всего задания"
      ]
    },
    {
      "cell_type": "markdown",
      "metadata": {
        "id": "haFkQJ310qjC"
      },
      "source": [
        "# **Загрузка и подготовка данных**"
      ]
    },
    {
      "cell_type": "markdown",
      "metadata": {
        "id": "PotmF_EZ019N"
      },
      "source": [
        "✔Загрузите уже знакомый вам файл Advertising.csv как объект DataFrame."
      ]
    },
    {
      "cell_type": "code",
      "execution_count": null,
      "metadata": {
        "id": "KdCXCfp50vBx"
      },
      "outputs": [],
      "source": [
        "data = pd.read_csv('/content/Advertising.csv')"
      ]
    },
    {
      "cell_type": "markdown",
      "metadata": {
        "id": "4LMb1pCR09c-"
      },
      "source": [
        "✔Проверьте, есть ли в данных пропуски и, если они есть - удалите их"
      ]
    },
    {
      "cell_type": "code",
      "execution_count": null,
      "metadata": {
        "colab": {
          "base_uri": "https://localhost:8080/"
        },
        "id": "kNs1asgH0-Qr",
        "outputId": "257c5bbe-5a76-46e4-f982-02dd83010742"
      },
      "outputs": [
        {
          "output_type": "stream",
          "name": "stdout",
          "text": [
            "Unnamed: 0    0\n",
            "TV            0\n",
            "radio         0\n",
            "newspaper     0\n",
            "sales         0\n",
            "dtype: int64\n"
          ]
        }
      ],
      "source": [
        "print(data.isna().sum())"
      ]
    },
    {
      "cell_type": "markdown",
      "metadata": {
        "id": "bm-cSrXX1t1i"
      },
      "source": [
        "Вывод по разделу:\n",
        "Пропуски не обнаружены"
      ]
    },
    {
      "cell_type": "markdown",
      "metadata": {
        "id": "vRATqXy012Di"
      },
      "source": [
        "✔Преобразуйте ваши признаки в массивы NumPy и разделите их на переменные X (предикторы) и y(целевая переменная)"
      ]
    },
    {
      "cell_type": "code",
      "execution_count": null,
      "metadata": {
        "colab": {
          "base_uri": "https://localhost:8080/"
        },
        "id": "YsNk3HGu1uut",
        "outputId": "e0ccf25c-36fe-4ce8-f2af-dbe138b4fd0e"
      },
      "outputs": [
        {
          "data": {
            "text/plain": [
              "(array([[230.1,  37.8,  69.2],\n",
              "        [ 44.5,  39.3,  45.1],\n",
              "        [ 17.2,  45.9,  69.3]]),\n",
              " array([22.1, 10.4,  9.3]))"
            ]
          },
          "execution_count": 74,
          "metadata": {},
          "output_type": "execute_result"
        }
      ],
      "source": [
        "# Создание матрицы наблюдений X\n",
        "X = data.drop(['sales', 'Unnamed: 0'], axis=1).values\n",
        "\n",
        "# Вектор правильных ответов —  y\n",
        "y = data['sales'].values\n",
        "\n",
        "# check\n",
        "X[:3], y[:3]"
      ]
    },
    {
      "cell_type": "markdown",
      "metadata": {
        "id": "T6x4Hyhr1-N6"
      },
      "source": [
        "# **Координатный спуск (3 балла)**"
      ]
    },
    {
      "cell_type": "markdown",
      "metadata": {
        "id": "Me594H022A8o"
      },
      "source": [
        "✔Добавим единичный столбец для того, чтобы у нас был свободный коэффициент в уравнении регрессии:"
      ]
    },
    {
      "cell_type": "code",
      "execution_count": null,
      "metadata": {
        "colab": {
          "base_uri": "https://localhost:8080/"
        },
        "id": "r2YX6DsC2Dq-",
        "outputId": "2dd89716-ee25-43ee-cc5e-2bf063dc3566"
      },
      "outputs": [
        {
          "data": {
            "text/plain": [
              "array([[  1. , 230.1,  37.8,  69.2],\n",
              "       [  1. ,  44.5,  39.3,  45.1],\n",
              "       [  1. ,  17.2,  45.9,  69.3]])"
            ]
          },
          "execution_count": 75,
          "metadata": {},
          "output_type": "execute_result"
        }
      ],
      "source": [
        "# import numpy as np\n",
        "X = np.hstack([np.ones(X.shape[0]).reshape(-1, 1), X])\n",
        "\n",
        "# check\n",
        "X[:3]"
      ]
    },
    {
      "cell_type": "markdown",
      "metadata": {
        "id": "q7PsxJof2Gia"
      },
      "source": [
        "✔Нормализуем данные: обычно это необходимо для корректной работы алгоритма"
      ]
    },
    {
      "cell_type": "code",
      "execution_count": null,
      "metadata": {
        "colab": {
          "base_uri": "https://localhost:8080/"
        },
        "id": "ARn7Knms2Ite",
        "outputId": "19df6203-cf4e-4bbe-9f6a-7a39b387a1f1"
      },
      "outputs": [
        {
          "data": {
            "text/plain": [
              "array([[0.07071068, 0.09561706, 0.09692057, 0.13052034],\n",
              "       [0.07071068, 0.01849178, 0.10076663, 0.08506456],\n",
              "       [0.07071068, 0.00714739, 0.11768927, 0.13070895]])"
            ]
          },
          "execution_count": 76,
          "metadata": {},
          "output_type": "execute_result"
        }
      ],
      "source": [
        "X = X / np.sqrt(np.sum(np.square(X), axis=0))\n",
        "\n",
        "# check\n",
        "X[:3]\n",
        "# Normalization is done by dividing each element in a column\n",
        "# by the square root of the sum of squares of all elements in that column."
      ]
    },
    {
      "cell_type": "markdown",
      "metadata": {
        "id": "3ZYCmmAp2Lrk"
      },
      "source": [
        "✔Реализуйте алгоритм координатного спуска: (3 балла)"
      ]
    },
    {
      "cell_type": "markdown",
      "metadata": {
        "id": "OZuojqsd2RDj"
      },
      "source": [
        "✔Вам необходимо реализовать координатный спуск, и вывести веса в модели линейной регрессии."
      ]
    },
    {
      "cell_type": "code",
      "execution_count": null,
      "metadata": {
        "colab": {
          "base_uri": "https://localhost:8080/"
        },
        "id": "aYRdzEKv2QZ5",
        "outputId": "d5ae5a79-7210-476d-9ad9-82f0d4ea27f8"
      },
      "outputs": [
        {
          "name": "stdout",
          "output_type": "stream",
          "text": [
            "[[ 41.56217205]\n",
            " [110.13144155]\n",
            " [ 73.52860638]\n",
            " [ -0.55006384]]\n"
          ]
        }
      ],
      "source": [
        "y = y.reshape(-1, 1)\n",
        "\n",
        "num_iters = 1000\n",
        "# извлекаем размеры матрицы X\n",
        "m, n = X.shape\n",
        "w = np.zeros((n,1))  # Нулевой вектор весов\n",
        "r = y - X.dot(w)          # Инициализация остатков\n",
        "\n",
        "# Координатный спуск\n",
        "for iteration in range(num_iters):\n",
        "    for j in range(n):\n",
        "        # Вычисляем прогноз без k-ого фактора\n",
        "        h = (X[:,0:j] @ w[0:j]) + (X[:,j+1:] @ w[j+1:])\n",
        "        # Обновляем остатки, удаляя вклад текущего веса w_j\n",
        "        r = y - h\n",
        "        # Обновляем новое значение k-ого коэффициента\n",
        "        w[j] = (X[:,j].T @ (y - h))\n",
        "        # Вычисляем функцию потерь\n",
        "        cost = (sum((X @ w) - y) ** 2)/(len(y))\n",
        "\n",
        "# Выводим вектор весов\n",
        "print(w)"
      ]
    },
    {
      "cell_type": "markdown",
      "metadata": {
        "id": "0fxvP0H02l51"
      },
      "source": [
        "✔Сравните результаты с реализацией линейной регрессии из библиотеки sklearn:"
      ]
    },
    {
      "cell_type": "code",
      "execution_count": null,
      "metadata": {
        "colab": {
          "base_uri": "https://localhost:8080/"
        },
        "id": "5yq7dUxh2ejz",
        "outputId": "24b67dfa-1435-4b69-fa97-79fc8521d328"
      },
      "outputs": [
        {
          "name": "stdout",
          "output_type": "stream",
          "text": [
            "[[ 41.56217205 110.13144155  73.52860638  -0.55006384]]\n"
          ]
        }
      ],
      "source": [
        "from sklearn.linear_model import LinearRegression\n",
        "\n",
        "model = LinearRegression(fit_intercept=False)\n",
        "model.fit(X, y)\n",
        "\n",
        "print(model.coef_)"
      ]
    },
    {
      "cell_type": "code",
      "execution_count": null,
      "metadata": {
        "colab": {
          "base_uri": "https://localhost:8080/"
        },
        "id": "uFup8GqI2rnK",
        "outputId": "5bada8ca-1d6d-42c1-b236-615412758666"
      },
      "outputs": [
        {
          "data": {
            "text/plain": [
              "230.5421897033357"
            ]
          },
          "execution_count": 79,
          "metadata": {},
          "output_type": "execute_result"
        }
      ],
      "source": [
        "# Евклидово расстояние между векторами предсказаний координатным спуском и линейной регрессией sklearn\n",
        "np.linalg.norm(w - model.coef_)"
      ]
    },
    {
      "cell_type": "markdown",
      "metadata": {
        "id": "FnVm8TsN2vG2"
      },
      "source": [
        "Если вы все сделали верно, они должны практически совпасть!"
      ]
    },
    {
      "cell_type": "markdown",
      "metadata": {
        "id": "ZsiCrFoC2vxj"
      },
      "source": [
        "# **Стохастический градиентный спуск (6 баллов)**"
      ]
    },
    {
      "cell_type": "markdown",
      "metadata": {
        "id": "DY0SuyDd21k6"
      },
      "source": [
        "\n",
        "✔Отмасштабируйте столбцы исходной матрицы X (которую мы не нормализовали еще!). Для того, чтобы это сделать, надо вычесть из каждого значения среднее и разделить на стандартное отклонение (0.5 баллов)"
      ]
    },
    {
      "cell_type": "code",
      "execution_count": null,
      "metadata": {
        "colab": {
          "base_uri": "https://localhost:8080/"
        },
        "id": "vcMLABit259E",
        "outputId": "2373a887-1a3d-40c2-c961-e072ecf6977d"
      },
      "outputs": [
        {
          "name": "stdout",
          "output_type": "stream",
          "text": [
            "Среднее масштабированного массива: 0\n",
            "Стандартные отклонения масштабированного массива: 1\n"
          ]
        }
      ],
      "source": [
        "# Вернём изначальную (ненормализованную матрицу)\n",
        "X = np.array(data[['TV','radio','newspaper']])\n",
        "y = np.array(data['sales'])\n",
        "\n",
        "X = (X - X.mean(axis=0)) / X.std(axis=0)\n",
        "\n",
        "print('Среднее масштабированного массива: %.0f'%(abs(X.mean())))\n",
        "print('Стандартные отклонения масштабированного массива: %.0f'%(X.std()))"
      ]
    },
    {
      "cell_type": "markdown",
      "metadata": {
        "id": "1FeIEDYF3AMi"
      },
      "source": [
        "✔Добавим единичный столбец"
      ]
    },
    {
      "cell_type": "code",
      "execution_count": null,
      "metadata": {
        "id": "ST5785K63BAn"
      },
      "outputs": [],
      "source": [
        "X = np.hstack([np.ones(X.shape[0]).reshape(-1, 1), X])"
      ]
    },
    {
      "cell_type": "markdown",
      "metadata": {
        "id": "FfcoG6lN3DIk"
      },
      "source": [
        "✔Создайте функцию mse_error для вычисления среднеквадратичной ошибки, принимающую два аргумента: реальные значения и предсказывающие, и возвращающую значение mse (0.5 балла)"
      ]
    },
    {
      "cell_type": "code",
      "execution_count": null,
      "metadata": {
        "id": "lnZ8T_wn3HBu"
      },
      "outputs": [],
      "source": [
        "def mse_error(y, y_pred):\n",
        "    \"\"\"Функция вычисления среднеквадратичной ошибки\n",
        "\n",
        "    Args:\n",
        "        y (float): реальное значение\n",
        "        y_pred (float): предсказанное значение\n",
        "    Returns:\n",
        "        result (float): значение MSE\n",
        "    \"\"\"\n",
        "    mse = ((y - y_pred) ** 2).mean()\n",
        "    return mse # Вычисляем среднее значение реальных продаж\n",
        "\n",
        "\n",
        "mean_sales = np.mean(y)"
      ]
    },
    {
      "cell_type": "markdown",
      "metadata": {
        "id": "hL8nH7Xw3M_u"
      },
      "source": [
        "✔Сделайте наивный прогноз: предскажите продажи средним значением. После этого рассчитайте среднеквадратичную ошибку для этого прогноза (0.5 балла)"
      ]
    },
    {
      "cell_type": "code",
      "execution_count": null,
      "metadata": {
        "colab": {
          "base_uri": "https://localhost:8080/"
        },
        "id": "ZJIfdmZ-3Npa",
        "outputId": "b65c9767-02c5-4e6f-c4f7-6aa36f8b8acb"
      },
      "outputs": [
        {
          "name": "stdout",
          "output_type": "stream",
          "text": [
            "Наивный прогноз (среднее значение продаж): 14.0225\n",
            "Среднеквадратичная ошибка (MSE) для наивного прогноза: 27.085743750000002\n"
          ]
        }
      ],
      "source": [
        "y_pred = np.full_like(y, mean_sales)\n",
        "# посчитаем MSE\n",
        "mse = mse_error(y, y_pred)\n",
        "\n",
        "print(\"Наивный прогноз (среднее значение продаж):\", y_pred[0])\n",
        "print(\"Среднеквадратичная ошибка (MSE) для наивного прогноза:\", mse)"
      ]
    },
    {
      "cell_type": "markdown",
      "metadata": {
        "id": "Zc9dbJ2V3VpE"
      },
      "source": [
        "✔Создайте функцию lin_pred, которая может по матрице предикторов X и вектору весов линейной модели w получить вектор прогнозов (0.5 балла)"
      ]
    },
    {
      "cell_type": "code",
      "execution_count": null,
      "metadata": {
        "id": "HvRzCMPA3WMQ"
      },
      "outputs": [],
      "source": [
        "def lin_pred(X, w):\n",
        "    \"\"\"Функция получит предсказания по весам линейной модели\n",
        "\n",
        "    Args:\n",
        "        X (array): матрица предикторов\n",
        "        w (array): вектор весов линейной модели\n",
        "\n",
        "    Returns:\n",
        "        array: вектор прогнозов\n",
        "    \"\"\"\n",
        "    y_pred = X@w\n",
        "    return y_pred"
      ]
    },
    {
      "cell_type": "code",
      "execution_count": null,
      "metadata": {
        "colab": {
          "base_uri": "https://localhost:8080/"
        },
        "id": "rskG5jJmDCxU",
        "outputId": "9019149c-94df-4fff-8ddc-f67448c1900e"
      },
      "outputs": [
        {
          "name": "stdout",
          "output_type": "stream",
          "text": [
            "MSE: 2.784126314510936\n"
          ]
        }
      ],
      "source": [
        "# Мы произвели стандартизацию вектора Х, поэтому нам нужно обновить вектор весов w\n",
        "# Обновим веса w для отмасштабированных данных\n",
        "def lin_reg(X, y):\n",
        "    a = np.dot(X.T, X)\n",
        "    b = np.dot(X.T, y)\n",
        "    return np.linalg.solve(a, b)\n",
        "\n",
        "\n",
        "w = lin_reg(X, y).T\n",
        "\n",
        "y_pred = lin_pred(X, w)\n",
        "print(f'MSE: {mse_error(y, y_pred)}')"
      ]
    },
    {
      "cell_type": "markdown",
      "metadata": {
        "id": "n5Ui2uvd3eYa"
      },
      "source": [
        "✔Создайте функцию stoch_grad_step для реализации шага стохастического градиентного спуска. (1.5 балла) Функция должна принимать на вход следующие аргументы:\n",
        "\n",
        "матрицу X\n",
        "вектора y и w\n",
        "число train_ind - индекс объекта обучающей выборки (строки матрицы X), по которому считается изменение весов\n",
        "число  𝜂  (eta) - шаг градиентного спуска\n",
        "Результатом будет вектор обновленных весов"
      ]
    },
    {
      "cell_type": "markdown",
      "metadata": {
        "id": "xT8gANOo4Fq0"
      },
      "source": [
        "Шаг для стохастического градиентного спуска выглядит следующим образом:"
      ]
    },
    {
      "cell_type": "markdown",
      "metadata": {
        "id": "ZsMrZwf24MPY"
      },
      "source": [
        "Для того, чтобы написать функцию, нужно сделать следующее:\n",
        "\n",
        "посчитать направление изменения: умножить объект обучающей выборки на 2 и на разницу между предсказанным значением и реальным, а потом поделить на количество элементов в выборке.\n",
        "вернуть разницу между вектором весов и направлением изменения, умноженным на шаг градиентного спуска"
      ]
    },
    {
      "cell_type": "code",
      "execution_count": null,
      "metadata": {
        "id": "OMQoIB4c4KUK"
      },
      "outputs": [],
      "source": [
        "def stoch_grad_step(X, y, w, index, eta=0.01):\n",
        "    \"\"\"summary\n",
        "\n",
        "    Args:\n",
        "        X (array): матрица предикторов\n",
        "        y (array): вектор ответов\n",
        "        w (array): вектор весов\n",
        "        train_ind (int): индекс объекта\n",
        "        eta (float): шаг градиентного спуска\n",
        "    Returns:\n",
        "        array: обновленный вектор весов\n",
        "    \"\"\"\n",
        "    x_sample = X[index]\n",
        "    y_sample = y[index]\n",
        "\n",
        "    y_pred = x_sample @ w\n",
        "\n",
        "    gradient = x_sample * (y_pred-y_sample) / len(X)\n",
        "    weights = w - 2 * eta * gradient\n",
        "\n",
        "    return weights"
      ]
    },
    {
      "cell_type": "code",
      "execution_count": null,
      "metadata": {
        "colab": {
          "base_uri": "https://localhost:8080/"
        },
        "id": "1DvTJg3JDJPL",
        "outputId": "4d77754d-7c35-4f8a-f007-d815515d6730"
      },
      "outputs": [
        {
          "data": {
            "text/plain": [
              "array([14.02261487,  3.91934441,  2.79206845, -0.02267902])"
            ]
          },
          "execution_count": 90,
          "metadata": {},
          "output_type": "execute_result"
        }
      ],
      "source": [
        "# Опять же желательно проверять работоспособность функций\n",
        "stoch_grad_step(X, y, w, 11, 0.1)"
      ]
    },
    {
      "cell_type": "markdown",
      "metadata": {
        "id": "ru6LElL84W2-"
      },
      "source": [
        "✔Создайте функцию stochastic_gradient_descent, для реализации стохастического градиентного спуска (2.5 балла)\n",
        "\n",
        "Функция принимает на вход следующие аргументы:\n",
        "\n",
        "Матрицу признаков X\n",
        "Целевую переменнную\n",
        "Изначальную точку (веса модели)\n",
        "Параметр, определяющий темп обучения\n",
        "Максимальное число итераций\n",
        "Евклидово расстояние между векторами весов на соседних итерациях градиентного спуска,при котором алгоритм прекращает работу\n",
        "На каждой итерации в вектор (список) должно записываться текущее значение среднеквадратичной ошибки. Функция должна возвращать вектор весов  𝑤 , а также вектор (список) ошибок."
      ]
    },
    {
      "cell_type": "markdown",
      "metadata": {
        "id": "r_xEo5Ic4XfZ"
      },
      "source": [
        "Алгоритм сследующий:\n",
        "\n",
        "*   Инициализируйте расстояние между векторами весов на соседних итерациях большим числом (можно бесконечностью)\n",
        "*   Создайте пустой список для фиксации ошибок\n",
        "*   Создайте счетчик итераций\n",
        "*   Реализуйте оновной цикл обучения пока расстояние между векторами весов больше того, при котором надо прекратить работу (когда расстояния станут слишком маленькими - значит, мы застряли в одном месте) и количество итераций меньше максимально разрешенного: сгенерируйте случайный индекс, запишите текущую ошибку в вектор ошибок, запишите в переменную текущий шаг стохастического спуска с использованием функции, написанной ранее. Далее рассчитайте текущее расстояние между векторами весов и прибавьте к счетчику итераций 1.\n",
        "*   Верните вектор весов и вектор ошибок\n"
      ]
    },
    {
      "cell_type": "code",
      "execution_count": null,
      "metadata": {
        "id": "kNelROdQDOTI"
      },
      "outputs": [],
      "source": [
        "def stochastic_gradient_descent(X, y, w, eta=0.1, max_iter=1e+4, dist_min=1e-8):\n",
        "    \"\"\"Функция реализующая стохастический градиентный спуск\n",
        "\n",
        "    Args:\n",
        "        X (array): матрица предикторов\n",
        "        y (array): вектор ответов\n",
        "        w (array): вектор весов\n",
        "        eta (float): шаг градиентного спуска\n",
        "        max_iter (type): максимальное количество итерации\n",
        "        dist_min (type): минимальное расстояние между векторами весов\n",
        "    \"\"\"\n",
        "\n",
        "    distance = 1e+10 #расстояние между векторами\n",
        "    errors = [] #список для фиксации ошибок\n",
        "    iters = 0\n",
        "\n",
        "    w_value = []\n",
        "\n",
        "    while distance > dist_min and iters < max_iter:\n",
        "        random_ind = np.random.randint(X.shape[0])\n",
        "        y_pred = lin_pred(X, w)\n",
        "\n",
        "        errors.append(mse_error(y, y_pred))\n",
        "        w_new = stoch_grad_step(X, y, w, random_ind, eta)\n",
        "\n",
        "        distance = np.linalg.norm(w - w_new)\n",
        "        w_value.append(w)\n",
        "\n",
        "        w = w_new\n",
        "        iters += 1\n",
        "\n",
        "    return w, w_value, errors"
      ]
    },
    {
      "cell_type": "markdown",
      "metadata": {
        "id": "2Hb-V8gC5EMK"
      },
      "source": [
        "✔Запустите  105  итераций стохастического градиентного спуска. Укажите вектор начальных весов, состоящий из нулей. Можете поэкспериментировать с параметром, отвечающим за темп обучения."
      ]
    },
    {
      "cell_type": "markdown",
      "metadata": {
        "id": "g5WqYB455EUL"
      },
      "source": [
        "✔Постройте график зависимости ошибки от номера итерации"
      ]
    },
    {
      "cell_type": "code",
      "execution_count": null,
      "metadata": {
        "colab": {
          "base_uri": "https://localhost:8080/",
          "height": 448
        },
        "id": "3ikwH_PhDUzR",
        "outputId": "560ab48a-3a9e-4bd8-ae87-617a47e71717"
      },
      "outputs": [
        {
          "data": {
            "text/plain": [
              "[<matplotlib.lines.Line2D at 0x7e95af060af0>]"
            ]
          },
          "execution_count": 92,
          "metadata": {},
          "output_type": "execute_result"
        },
        {
          "data": {
            "image/png": "[encoded data removed]",
            "text/plain": [
              "<Figure size 640x480 with 1 Axes>"
            ]
          },
          "metadata": {},
          "output_type": "display_data"
        }
      ],
      "source": [
        "w, w_values, errors = stochastic_gradient_descent(X, y, np.zeros(X.shape[1]), 2, 1e+5, dist_min=1e-3)\n",
        "plt.plot(errors)"
      ]
    },
    {
      "cell_type": "markdown",
      "metadata": {
        "id": "ipPJKDsR6sgO"
      },
      "source": [
        "\n",
        "Выведите вектор весов, к которому сошелся метод."
      ]
    },
    {
      "cell_type": "code",
      "execution_count": null,
      "metadata": {
        "colab": {
          "base_uri": "https://localhost:8080/"
        },
        "id": "5FCrh2H96tSv",
        "outputId": "e7b1d37e-a3cb-4ec9-fde3-a5ca37fc0a53"
      },
      "outputs": [
        {
          "name": "stdout",
          "output_type": "stream",
          "text": [
            "Вектор весов, к которому сошелся метод: [11.8175842   3.23549403  2.16586204  0.27896789]\n"
          ]
        }
      ],
      "source": [
        "print(f'Вектор весов, к которому сошелся метод: {w}')"
      ]
    },
    {
      "cell_type": "markdown",
      "metadata": {
        "id": "AT3hWB916yia"
      },
      "source": [
        "Выведите среднеквадратичную ошибку на последней итерации."
      ]
    },
    {
      "cell_type": "code",
      "execution_count": null,
      "metadata": {
        "colab": {
          "base_uri": "https://localhost:8080/"
        },
        "id": "pUeCfJuG6zLC",
        "outputId": "dfa8bd91-082d-47a2-c045-acb94fbb0a0c"
      },
      "outputs": [
        {
          "data": {
            "text/plain": [
              "8.486206697768452"
            ]
          },
          "execution_count": 95,
          "metadata": {},
          "output_type": "execute_result"
        }
      ],
      "source": [
        "mse_error(X@w, y)"
      ]
    },
    {
      "cell_type": "code",
      "execution_count": null,
      "metadata": {
        "colab": {
          "base_uri": "https://localhost:8080/"
        },
        "id": "6sqeVoiVDqsG",
        "outputId": "4dd9d680-7ba5-4c14-d4a2-8cb9905037c8"
      },
      "outputs": [
        {
          "name": "stdout",
          "output_type": "stream",
          "text": [
            "Минимальная целевая метрика достигнута на       92 итерации, и составила       8.446130083664393       \n",
            "Веса линейной регрессии при этом составили [11.82728595  3.24411377  2.15348683  0.28740259]\n"
          ]
        }
      ],
      "source": [
        "# Для поиска итерации на которой достигнут минимум целевой метрики используем Pandas\n",
        "model_data = pd.DataFrame({'MSE': errors, 'w_value': w_values})\n",
        "w_optimal = model_data.iloc[model_data['MSE'].idxmin()][1]\n",
        "\n",
        "print(f'Минимальная целевая метрика достигнута на \\\n",
        "      {model_data[\"MSE\"].idxmin()} итерации, и составила \\\n",
        "      {errors[model_data[\"MSE\"].idxmin()]} \\\n",
        "      \\nВеса линейной регрессии при этом составили {w_optimal}')"
      ]
    },
    {
      "cell_type": "markdown",
      "metadata": {
        "id": "I2Wr8gFl61Zh"
      },
      "source": [
        "БОНУСНОЕ ЗАДАНИЕ\n",
        "Разумеется, в реальности специалисты по машинному обучению не прописывают алгоритмы с нуля, а пользуются готовыми реализациями из библиотек. Реализованный Вами стохастический градиентный спуск представлен в библиотеке sklearn.\n",
        "\n",
        "Что необходимо сделать:\n",
        "\n",
        "Выберите в документации класс, подходящий для вашей задачи, и обучите стохастический градиентный спуск. Оцените качество с помощью среднеквадратичной ошибки и сравните результат с результатом алгоритма, реализованного вами самостоятельно. В одном из предыдущих модулей качество решения задачи регрессии оценивалось с помощью ещё одной метрики. Найдите её реализацию в библиотеке sklearn и оцените качество полученной модели. Данное задание не является обязательным, но, выполнив его, вы получите возможность заработать дополнительные 3 балла."
      ]
    },
    {
      "cell_type": "code",
      "execution_count": null,
      "metadata": {
        "colab": {
          "base_uri": "https://localhost:8080/"
        },
        "id": "FRyXWM3G65hS",
        "outputId": "3f18d6f1-e75c-4213-cbc6-63dab705fe33"
      },
      "outputs": [
        {
          "name": "stderr",
          "output_type": "stream",
          "text": [
            "[I 2023-12-24 13:03:18,564] A new study created in memory with name: no-name-f1550acb-0210-422c-ba72-804ea07b18c6\n",
            "[I 2023-12-24 13:03:18,577] Trial 0 finished with value: 3.1723071991423746 and parameters: {'max_iter': 3274, 'tol': 0.000134229753032232, 'l1_ratio': 0.8897047055919644}. Best is trial 0 with value: 3.1723071991423746.\n",
            "[I 2023-12-24 13:03:18,591] Trial 1 finished with value: 3.1975628404933523 and parameters: {'max_iter': 6275, 'tol': 0.0038904498399382078, 'l1_ratio': 0.7966146092003898}. Best is trial 0 with value: 3.1723071991423746.\n",
            "[I 2023-12-24 13:03:18,604] Trial 2 finished with value: 3.172389492844331 and parameters: {'max_iter': 7776, 'tol': 2.9066871485126298e-05, 'l1_ratio': 0.6249284422975172}. Best is trial 0 with value: 3.1723071991423746.\n",
            "[I 2023-12-24 13:03:18,617] Trial 3 finished with value: 3.172493333741611 and parameters: {'max_iter': 5186, 'tol': 3.161551914870035e-05, 'l1_ratio': 0.2909011836070793}. Best is trial 0 with value: 3.1723071991423746.\n",
            "[I 2023-12-24 13:03:18,630] Trial 4 finished with value: 3.19054431007691 and parameters: {'max_iter': 4405, 'tol': 0.0029571276221677582, 'l1_ratio': 0.23075484154491105}. Best is trial 0 with value: 3.1723071991423746.\n",
            "[I 2023-12-24 13:03:18,642] Trial 5 finished with value: 3.171151413997003 and parameters: {'max_iter': 9722, 'tol': 0.000338457505873171, 'l1_ratio': 0.23030506788680888}. Best is trial 5 with value: 3.171151413997003.\n",
            "[I 2023-12-24 13:03:18,654] Trial 6 finished with value: 3.180437347138162 and parameters: {'max_iter': 9323, 'tol': 0.00040535672820443154, 'l1_ratio': 0.2529359341585907}. Best is trial 5 with value: 3.171151413997003.\n",
            "[I 2023-12-24 13:03:18,666] Trial 7 finished with value: 3.1975844121921084 and parameters: {'max_iter': 5111, 'tol': 0.004622562270796046, 'l1_ratio': 0.7290848992308223}. Best is trial 5 with value: 3.171151413997003.\n",
            "[I 2023-12-24 13:03:18,678] Trial 8 finished with value: 3.1976378225088617 and parameters: {'max_iter': 3526, 'tol': 0.0041937180542228406, 'l1_ratio': 0.5618983274768357}. Best is trial 5 with value: 3.171151413997003.\n",
            "[I 2023-12-24 13:03:18,694] Trial 9 finished with value: 3.1725499796327385 and parameters: {'max_iter': 3979, 'tol': 4.62552355074982e-05, 'l1_ratio': 0.10872289931858542}. Best is trial 5 with value: 3.171151413997003.\n",
            "[I 2023-12-24 13:03:18,729] Trial 10 finished with value: 3.180383335118864 and parameters: {'max_iter': 9397, 'tol': 0.0004626197934177296, 'l1_ratio': 0.42490987132161434}. Best is trial 5 with value: 3.171151413997003.\n",
            "[I 2023-12-24 13:03:18,785] Trial 11 finished with value: 3.2263906313237327 and parameters: {'max_iter': 619, 'tol': 0.09375581391519601, 'l1_ratio': 0.8810388271060654}. Best is trial 5 with value: 3.171151413997003.\n",
            "[I 2023-12-24 13:03:18,855] Trial 12 finished with value: 3.1724507281403036 and parameters: {'max_iter': 2034, 'tol': 0.00013210340404257344, 'l1_ratio': 0.4279412709339959}. Best is trial 5 with value: 3.171151413997003.\n",
            "[I 2023-12-24 13:03:18,945] Trial 13 finished with value: 3.1710942245061373 and parameters: {'max_iter': 7193, 'tol': 0.00019519910861230097, 'l1_ratio': 0.4150053846645213}. Best is trial 13 with value: 3.1710942245061373.\n",
            "[I 2023-12-24 13:03:18,982] Trial 14 finished with value: 3.17247034062249 and parameters: {'max_iter': 7626, 'tol': 1.057410567311737e-05, 'l1_ratio': 0.36485632887575914}. Best is trial 13 with value: 3.1710942245061373.\n",
            "[I 2023-12-24 13:03:19,023] Trial 15 finished with value: 3.182188910208666 and parameters: {'max_iter': 10000, 'tol': 0.0007656009191638412, 'l1_ratio': 0.12078858956862906}. Best is trial 13 with value: 3.1710942245061373.\n",
            "[I 2023-12-24 13:03:19,063] Trial 16 finished with value: 3.1988419946376085 and parameters: {'max_iter': 7985, 'tol': 0.015081084974825975, 'l1_ratio': 0.5095165061473195}. Best is trial 13 with value: 3.1710942245061373.\n",
            "[I 2023-12-24 13:03:19,112] Trial 17 finished with value: 3.171115363338237 and parameters: {'max_iter': 6543, 'tol': 0.00018122943011760747, 'l1_ratio': 0.34673196184410215}. Best is trial 13 with value: 3.1710942245061373.\n",
            "[I 2023-12-24 13:03:19,160] Trial 18 finished with value: 3.172473780829078 and parameters: {'max_iter': 6579, 'tol': 0.0001326009497259186, 'l1_ratio': 0.3537909721557023}. Best is trial 13 with value: 3.1710942245061373.\n",
            "[I 2023-12-24 13:03:19,202] Trial 19 finished with value: 3.188846228446831 and parameters: {'max_iter': 6154, 'tol': 0.0015586381534518805, 'l1_ratio': 0.585003304396525}. Best is trial 13 with value: 3.1710942245061373.\n",
            "[I 2023-12-24 13:03:19,246] Trial 20 finished with value: 3.172444003820141 and parameters: {'max_iter': 6960, 'tol': 7.989705543872258e-05, 'l1_ratio': 0.4495712215526485}. Best is trial 13 with value: 3.1710942245061373.\n",
            "[I 2023-12-24 13:03:19,288] Trial 21 finished with value: 3.171167508531807 and parameters: {'max_iter': 8470, 'tol': 0.00026789502683920776, 'l1_ratio': 0.17833052760962465}. Best is trial 13 with value: 3.1710942245061373.\n",
            "[I 2023-12-24 13:03:19,329] Trial 22 finished with value: 3.1711300241355476 and parameters: {'max_iter': 8603, 'tol': 0.00027628213297862327, 'l1_ratio': 0.2993831448573171}. Best is trial 13 with value: 3.1710942245061373.\n",
            "[I 2023-12-24 13:03:19,371] Trial 23 finished with value: 3.182120140386338 and parameters: {'max_iter': 8364, 'tol': 0.0008366634173369343, 'l1_ratio': 0.3392646302930282}. Best is trial 13 with value: 3.1710942245061373.\n",
            "[I 2023-12-24 13:03:19,419] Trial 24 finished with value: 3.17243256887994 and parameters: {'max_iter': 5824, 'tol': 1.3582059420395751e-05, 'l1_ratio': 0.4863545220113221}. Best is trial 13 with value: 3.1710942245061373.\n",
            "[I 2023-12-24 13:03:19,463] Trial 25 finished with value: 3.1711033644317688 and parameters: {'max_iter': 7168, 'tol': 0.00020518831073223885, 'l1_ratio': 0.38548515269374906}. Best is trial 13 with value: 3.1710942245061373.\n",
            "[I 2023-12-24 13:03:19,504] Trial 26 finished with value: 3.172462824958198 and parameters: {'max_iter': 7272, 'tol': 6.11115067576621e-05, 'l1_ratio': 0.38903063906120977}. Best is trial 13 with value: 3.1710942245061373.\n",
            "[I 2023-12-24 13:03:19,546] Trial 27 finished with value: 3.188873950626 and parameters: {'max_iter': 6956, 'tol': 0.001514618066596207, 'l1_ratio': 0.497902401512211}. Best is trial 13 with value: 3.1710942245061373.\n",
            "[I 2023-12-24 13:03:19,588] Trial 28 finished with value: 3.1710216944054643 and parameters: {'max_iter': 5564, 'tol': 0.00016400551670639368, 'l1_ratio': 0.6492874647843678}. Best is trial 28 with value: 3.1710216944054643.\n",
            "[I 2023-12-24 13:03:19,634] Trial 29 finished with value: 3.172376422691208 and parameters: {'max_iter': 2420, 'tol': 2.6014559027561515e-05, 'l1_ratio': 0.6669775036229284}. Best is trial 28 with value: 3.1710216944054643.\n",
            "[I 2023-12-24 13:03:19,684] Trial 30 finished with value: 3.172363801248962 and parameters: {'max_iter': 5535, 'tol': 9.932047124199611e-05, 'l1_ratio': 0.7075842578509799}. Best is trial 28 with value: 3.1710216944054643.\n",
            "[I 2023-12-24 13:03:19,728] Trial 31 finished with value: 3.1710542727991724 and parameters: {'max_iter': 4358, 'tol': 0.00028153374084615487, 'l1_ratio': 0.5440496475524533}. Best is trial 28 with value: 3.1710216944054643.\n",
            "[I 2023-12-24 13:03:19,772] Trial 32 finished with value: 3.171056440518938 and parameters: {'max_iter': 4379, 'tol': 0.00019529041003992412, 'l1_ratio': 0.5370475733480908}. Best is trial 28 with value: 3.1710216944054643.\n",
            "[I 2023-12-24 13:03:19,812] Trial 33 finished with value: 3.1820532110326205 and parameters: {'max_iter': 4340, 'tol': 0.0006621735255668284, 'l1_ratio': 0.5519264682330779}. Best is trial 28 with value: 3.1710216944054643.\n",
            "[I 2023-12-24 13:03:19,853] Trial 34 finished with value: 3.1723920685870226 and parameters: {'max_iter': 2702, 'tol': 4.7354215271145644e-05, 'l1_ratio': 0.6166419680283225}. Best is trial 28 with value: 3.1710216944054643.\n",
            "[I 2023-12-24 13:03:19,932] Trial 35 finished with value: 3.1887866777640164 and parameters: {'max_iter': 4900, 'tol': 0.0016667604990627867, 'l1_ratio': 0.7721246721367018}. Best is trial 28 with value: 3.1710216944054643.\n",
            "[I 2023-12-24 13:03:19,981] Trial 36 finished with value: 3.1723845705413907 and parameters: {'max_iter': 3360, 'tol': 0.00010214982409439445, 'l1_ratio': 0.6407642287101446}. Best is trial 28 with value: 3.1710216944054643.\n",
            "[I 2023-12-24 13:03:20,023] Trial 37 finished with value: 3.1803504596037757 and parameters: {'max_iter': 4808, 'tol': 0.0004893782738077976, 'l1_ratio': 0.5295959224770499}. Best is trial 28 with value: 3.1710216944054643.\n",
            "[I 2023-12-24 13:03:20,075] Trial 38 finished with value: 3.172396315713557 and parameters: {'max_iter': 5611, 'tol': 2.4064419479306287e-05, 'l1_ratio': 0.6029785648998842}. Best is trial 28 with value: 3.1710216944054643.\n",
            "[I 2023-12-24 13:03:20,120] Trial 39 finished with value: 3.1710095770708255 and parameters: {'max_iter': 3843, 'tol': 0.00020346202169992862, 'l1_ratio': 0.6884321840694948}. Best is trial 39 with value: 3.1710095770708255.\n",
            "[I 2023-12-24 13:03:20,165] Trial 40 finished with value: 3.1987840079013004 and parameters: {'max_iter': 3892, 'tol': 0.011310868570822086, 'l1_ratio': 0.6916150928577522}. Best is trial 39 with value: 3.1710095770708255.\n",
            "[I 2023-12-24 13:03:20,200] Trial 41 finished with value: 3.1709629168793563 and parameters: {'max_iter': 4376, 'tol': 0.0001774776578354567, 'l1_ratio': 0.8391775801252455}. Best is trial 41 with value: 3.1709629168793563.\n",
            "[I 2023-12-24 13:03:20,230] Trial 42 finished with value: 3.1709710586356836 and parameters: {'max_iter': 4516, 'tol': 0.000375175812049148, 'l1_ratio': 0.8128727040875415}. Best is trial 41 with value: 3.1709629168793563.\n",
            "[I 2023-12-24 13:03:20,256] Trial 43 finished with value: 3.1709586603985103 and parameters: {'max_iter': 3081, 'tol': 0.0003762320537916458, 'l1_ratio': 0.8529298846227388}. Best is trial 43 with value: 3.1709586603985103.\n",
            "[I 2023-12-24 13:03:20,282] Trial 44 finished with value: 3.1819590713202506 and parameters: {'max_iter': 2888, 'tol': 0.0010651819937358515, 'l1_ratio': 0.8511015298052534}. Best is trial 43 with value: 3.1709586603985103.\n",
            "[I 2023-12-24 13:03:20,308] Trial 45 finished with value: 3.1802620143142097 and parameters: {'max_iter': 1647, 'tol': 0.00046058791703748505, 'l1_ratio': 0.8112736249482602}. Best is trial 43 with value: 3.1709586603985103.\n",
            "[I 2023-12-24 13:03:20,334] Trial 46 finished with value: 3.190374778853391 and parameters: {'max_iter': 3766, 'tol': 0.002670055170820409, 'l1_ratio': 0.7651150617878031}. Best is trial 43 with value: 3.1709586603985103.\n",
            "[I 2023-12-24 13:03:20,361] Trial 47 finished with value: 3.1723065114997366 and parameters: {'max_iter': 1257, 'tol': 7.431963427225464e-05, 'l1_ratio': 0.8919173895485553}. Best is trial 43 with value: 3.1709586603985103.\n",
            "[I 2023-12-24 13:03:20,388] Trial 48 finished with value: 3.170966633475198 and parameters: {'max_iter': 3028, 'tol': 0.0003822326232625779, 'l1_ratio': 0.8271697132213169}. Best is trial 43 with value: 3.1709586603985103.\n",
            "[I 2023-12-24 13:03:20,415] Trial 49 finished with value: 3.180254150694801 and parameters: {'max_iter': 3100, 'tol': 0.0006059151968072213, 'l1_ratio': 0.836320242826852}. Best is trial 43 with value: 3.1709586603985103.\n"
          ]
        },
        {
          "name": "stdout",
          "output_type": "stream",
          "text": [
            "MSE on test data: 3.1709586603985103\n",
            "MAE on test data: 1.4621717291267413\n",
            "Best hyperparameters: {'max_iter': 3081, 'tol': 0.0003762320537916458, 'l1_ratio': 0.8529298846227388}\n"
          ]
        }
      ],
      "source": [
        "X = df.drop(['sales', 'Unnamed: 0'], axis=1)\n",
        "y = df['sales']\n",
        "\n",
        "X_train, X_test, y_train, y_test = train_test_split(X, y, test_size=0.2, random_state=42)\n",
        "\n",
        "scaler = StandardScaler()\n",
        "X_train_scaled = scaler.fit_transform(X_train)\n",
        "X_test_scaled = scaler.transform(X_test)\n",
        "\n",
        "def objective(trial):\n",
        "    # Define the hyperparameters to tune via Optuna\n",
        "    max_iter = trial.suggest_int('max_iter', 100, 10000)\n",
        "    tol = trial.suggest_float('tol', 1e-5, 1e-1, log=True)  # Updated method here\n",
        "    l1_ratio = trial.suggest_float('l1_ratio', 0.1, 0.9)  # Assuming this was updated earlier\n",
        "\n",
        "    # Create an instance of the SGDRegressor with the current hyperparameters\n",
        "    sgd_reg = SGDRegressor(\n",
        "        penalty='elasticnet',\n",
        "        max_iter=max_iter,\n",
        "        tol=tol,\n",
        "        l1_ratio=l1_ratio,\n",
        "        random_state=42,\n",
        "    )\n",
        "\n",
        "    # Fit the SGDRegressor to the scaled training data\n",
        "    sgd_reg.fit(X_train_scaled, y_train)\n",
        "\n",
        "    # Make predictions on the scaled testing data\n",
        "    y_pred = sgd_reg.predict(X_test_scaled)\n",
        "\n",
        "    # Calculate MSE on test data\n",
        "    mse = mean_squared_error(y_test, y_pred)\n",
        "\n",
        "    return mse\n",
        "\n",
        "# Create a study object and specify the direction is 'minimize'.\n",
        "study = optuna.create_study(direction='minimize')\n",
        "\n",
        "# Optimize the study, the objective function is passed in as the first argument.\n",
        "study.optimize(objective, n_trials=50)  # You can specify the number of trials\n",
        "\n",
        "# Extract the best estimator\n",
        "best_params = study.best_params\n",
        "best_sgd_reg = SGDRegressor(\n",
        "    penalty='elasticnet',\n",
        "    max_iter=best_params['max_iter'],\n",
        "    tol=best_params['tol'],\n",
        "    l1_ratio=best_params['l1_ratio'],\n",
        "    random_state=42,\n",
        ")\n",
        "best_sgd_reg.fit(X_train_scaled, y_train)\n",
        "\n",
        "# Make predictions with the best parameters\n",
        "y_pred = best_sgd_reg.predict(X_test_scaled)\n",
        "\n",
        "# Calculate MSE and MAE on test data\n",
        "mse = mean_squared_error(y_test, y_pred)\n",
        "mae = mean_absolute_error(y_test, y_pred)\n",
        "\n",
        "print(f\"MSE on test data: {mse}\")\n",
        "print(f\"MAE on test data: {mae}\")\n",
        "\n",
        "# Print best hyperparameters\n",
        "print(\"Best hyperparameters:\", best_params)"
      ]
    }
  ],
  "metadata": {
    "colab": {
      "provenance": []
    },
    "kernelspec": {
      "display_name": "Python 3",
      "name": "python3"
    },
    "language_info": {
      "name": "python"
    }
  },
  "nbformat": 4,
  "nbformat_minor": 0
}